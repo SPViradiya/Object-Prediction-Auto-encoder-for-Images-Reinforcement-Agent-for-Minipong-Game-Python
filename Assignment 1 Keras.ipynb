{
 "cells": [
  {
   "cell_type": "code",
   "execution_count": 80,
   "metadata": {},
   "outputs": [],
   "source": [
    "import tensorflow as tf\n",
    "from tensorflow.keras.models import Sequential\n",
    "from tensorflow.keras.layers import Dense, Conv2D, MaxPooling2D, Dropout, Flatten\n",
    "from keras.optimizers import Adam\n",
    "import pandas as pd\n",
    "import numpy as np\n",
    "\n",
    "%matplotlib inline\n",
    "import matplotlib as mpl\n",
    "import matplotlib.pyplot as plt\n",
    "\n",
    "from sklearn.model_selection import train_test_split\n",
    "import timeit"
   ]
  },
  {
   "cell_type": "code",
   "execution_count": 81,
   "metadata": {},
   "outputs": [],
   "source": [
    "x_train = pd.read_csv(\"trainingpix.csv\",header=None)\n",
    "y_train = pd.read_csv(\"traininglabels.csv\",header=None)\n",
    "x_test = pd.read_csv(\"testingpix.csv\",header=None)\n",
    "y_test= pd.read_csv(\"testinglabels.csv\",header=None)"
   ]
  },
  {
   "cell_type": "code",
   "execution_count": 82,
   "metadata": {},
   "outputs": [],
   "source": [
    "x_train = np.reshape(x_train.to_numpy(),(x_train.shape[0],15,15,1)).astype('float32')\n",
    "x_test = np.reshape(x_test.to_numpy(),(x_test.shape[0],15,15,1)).astype('float32')\n",
    "x_y_train = y_train.iloc[:,0]\n",
    "x_y_test = y_test.iloc[:,0]"
   ]
  },
  {
   "cell_type": "code",
   "execution_count": 83,
   "metadata": {},
   "outputs": [],
   "source": [
    "epochs = 20"
   ]
  },
  {
   "cell_type": "code",
   "execution_count": 84,
   "metadata": {},
   "outputs": [],
   "source": [
    "start = timeit.default_timer()\n",
    "\n",
    "model = Sequential()\n",
    "    \n",
    "model.add(Conv2D(32, kernel_size=(3, 3),activation='relu',input_shape=(15,15,1)))\n",
    "model.add(MaxPooling2D(pool_size=(2, 2)))\n",
    "model.add(Conv2D(64, (3, 3), activation='relu'))\n",
    "model.add(MaxPooling2D(pool_size=(2, 2)))\n",
    "model.add(Flatten())\n",
    "model.add(Dense(128, activation='relu'))\n",
    "model.add(Dense(14))\n",
    "\n"
   ]
  },
  {
   "cell_type": "code",
   "execution_count": 85,
   "metadata": {},
   "outputs": [],
   "source": [
    "model.compile(optimizer='adam', loss=tf.keras.losses.SparseCategoricalCrossentropy(from_logits= True), metrics=['accuracy'])"
   ]
  },
  {
   "cell_type": "code",
   "execution_count": 86,
   "metadata": {},
   "outputs": [
    {
     "name": "stdout",
     "output_type": "stream",
     "text": [
      "Epoch 1/20\n",
      "22/22 [==============================] - 0s 7ms/step - loss: 2.4760 - accuracy: 0.2618 - val_loss: 2.1702 - val_accuracy: 0.2663\n",
      "Epoch 2/20\n",
      "22/22 [==============================] - 0s 3ms/step - loss: 1.6584 - accuracy: 0.5118 - val_loss: 1.1439 - val_accuracy: 0.6746\n",
      "Epoch 3/20\n",
      "22/22 [==============================] - 0s 3ms/step - loss: 0.8384 - accuracy: 0.8062 - val_loss: 0.5450 - val_accuracy: 0.8639\n",
      "Epoch 4/20\n",
      "22/22 [==============================] - 0s 3ms/step - loss: 0.3923 - accuracy: 0.9527 - val_loss: 0.2726 - val_accuracy: 0.9527\n",
      "Epoch 5/20\n",
      "22/22 [==============================] - 0s 3ms/step - loss: 0.1853 - accuracy: 0.9882 - val_loss: 0.1406 - val_accuracy: 1.0000\n",
      "Epoch 6/20\n",
      "22/22 [==============================] - 0s 3ms/step - loss: 0.1028 - accuracy: 0.9970 - val_loss: 0.0877 - val_accuracy: 1.0000\n",
      "Epoch 7/20\n",
      "22/22 [==============================] - 0s 3ms/step - loss: 0.0613 - accuracy: 1.0000 - val_loss: 0.0573 - val_accuracy: 1.0000\n",
      "Epoch 8/20\n",
      "22/22 [==============================] - 0s 3ms/step - loss: 0.0418 - accuracy: 0.9985 - val_loss: 0.0389 - val_accuracy: 1.0000\n",
      "Epoch 9/20\n",
      "22/22 [==============================] - 0s 3ms/step - loss: 0.0271 - accuracy: 1.0000 - val_loss: 0.0281 - val_accuracy: 1.0000\n",
      "Epoch 10/20\n",
      "22/22 [==============================] - 0s 3ms/step - loss: 0.0196 - accuracy: 1.0000 - val_loss: 0.0210 - val_accuracy: 1.0000\n",
      "Epoch 11/20\n",
      "22/22 [==============================] - 0s 3ms/step - loss: 0.0150 - accuracy: 1.0000 - val_loss: 0.0168 - val_accuracy: 1.0000\n",
      "Epoch 12/20\n",
      "22/22 [==============================] - 0s 3ms/step - loss: 0.0122 - accuracy: 1.0000 - val_loss: 0.0133 - val_accuracy: 1.0000\n",
      "Epoch 13/20\n",
      "22/22 [==============================] - 0s 3ms/step - loss: 0.0101 - accuracy: 1.0000 - val_loss: 0.0114 - val_accuracy: 1.0000\n",
      "Epoch 14/20\n",
      "22/22 [==============================] - 0s 3ms/step - loss: 0.0089 - accuracy: 1.0000 - val_loss: 0.0094 - val_accuracy: 1.0000\n",
      "Epoch 15/20\n",
      "22/22 [==============================] - 0s 3ms/step - loss: 0.0068 - accuracy: 1.0000 - val_loss: 0.0080 - val_accuracy: 1.0000\n",
      "Epoch 16/20\n",
      "22/22 [==============================] - 0s 3ms/step - loss: 0.0059 - accuracy: 1.0000 - val_loss: 0.0066 - val_accuracy: 1.0000\n",
      "Epoch 17/20\n",
      "22/22 [==============================] - 0s 3ms/step - loss: 0.0050 - accuracy: 1.0000 - val_loss: 0.0061 - val_accuracy: 1.0000\n",
      "Epoch 18/20\n",
      "22/22 [==============================] - 0s 3ms/step - loss: 0.0044 - accuracy: 1.0000 - val_loss: 0.0051 - val_accuracy: 1.0000\n",
      "Epoch 19/20\n",
      "22/22 [==============================] - 0s 3ms/step - loss: 0.0038 - accuracy: 1.0000 - val_loss: 0.0046 - val_accuracy: 1.0000\n",
      "Epoch 20/20\n",
      "22/22 [==============================] - 0s 3ms/step - loss: 0.0034 - accuracy: 1.0000 - val_loss: 0.0041 - val_accuracy: 1.0000\n",
      "Time to run the training:  4.144641922999654\n"
     ]
    }
   ],
   "source": [
    "history = model.fit(x_train,\n",
    "                     x_y_train,\n",
    "                     epochs=epochs, verbose=1, \n",
    "                     validation_data=(x_test, x_y_test)\n",
    "          )\n",
    "\n",
    "# Check the model results on the test set\n",
    "#model.evaluate(x_test, x_y_test)\n",
    "stop = timeit.default_timer()\n",
    "timeTaken = stop - start\n",
    "print('Time to run the training: ', timeTaken)"
   ]
  },
  {
   "cell_type": "code",
   "execution_count": 70,
   "metadata": {},
   "outputs": [
    {
     "name": "stdout",
     "output_type": "stream",
     "text": [
      "Model: \"sequential_6\"\n",
      "_________________________________________________________________\n",
      "Layer (type)                 Output Shape              Param #   \n",
      "=================================================================\n",
      "conv2d_12 (Conv2D)           (None, 13, 13, 32)        320       \n",
      "_________________________________________________________________\n",
      "max_pooling2d_12 (MaxPooling (None, 6, 6, 32)          0         \n",
      "_________________________________________________________________\n",
      "conv2d_13 (Conv2D)           (None, 4, 4, 64)          18496     \n",
      "_________________________________________________________________\n",
      "max_pooling2d_13 (MaxPooling (None, 2, 2, 64)          0         \n",
      "_________________________________________________________________\n",
      "flatten_6 (Flatten)          (None, 256)               0         \n",
      "_________________________________________________________________\n",
      "dense_12 (Dense)             (None, 128)               32896     \n",
      "_________________________________________________________________\n",
      "dense_13 (Dense)             (None, 14)                1806      \n",
      "=================================================================\n",
      "Total params: 53,518\n",
      "Trainable params: 53,518\n",
      "Non-trainable params: 0\n",
      "_________________________________________________________________\n"
     ]
    }
   ],
   "source": [
    "model.summary()"
   ]
  },
  {
   "cell_type": "code",
   "execution_count": 71,
   "metadata": {},
   "outputs": [
    {
     "data": {
      "text/plain": [
       "Text(0.5, 1.0, 'Accuracy Curves')"
      ]
     },
     "execution_count": 71,
     "metadata": {},
     "output_type": "execute_result"
    },
    {
     "data": {
      "image/png": "[encoded data removed]",
      "text/plain": [
       "<Figure size 576x432 with 1 Axes>"
      ]
     },
     "metadata": {
      "needs_background": "light"
     },
     "output_type": "display_data"
    },
    {
     "data": {
      "image/png": "[encoded data removed]",
      "text/plain": [
       "<Figure size 576x432 with 1 Axes>"
      ]
     },
     "metadata": {
      "needs_background": "light"
     },
     "output_type": "display_data"
    }
   ],
   "source": [
    "# Loss Curves\n",
    "plt.figure(figsize=[8,6])\n",
    "plt.plot(history.history['loss'],'r',linewidth=3.0)\n",
    "plt.plot(history.history['val_loss'],'b',linewidth=3.0)\n",
    "plt.legend(['Training loss', 'Testing Loss'],fontsize=18)\n",
    "plt.xlabel('Epochs ',fontsize=16)\n",
    "plt.ylabel('Loss',fontsize=16)\n",
    "plt.title('Loss Curves',fontsize=16)\n",
    "\n",
    "# Accuracy Curves\n",
    "plt.figure(figsize=[8,6])\n",
    "plt.plot(history.history['accuracy'],'r',linewidth=3.0)\n",
    "plt.plot(history.history['val_accuracy'],'b',linewidth=3.0)\n",
    "plt.legend(['Training Accuracy', 'Testing Accuracy'],fontsize=18)\n",
    "plt.xlabel('Epochs ',fontsize=16)\n",
    "plt.ylabel('Accuracy',fontsize=16)\n",
    "plt.title('Accuracy Curves',fontsize=16)"
   ]
  },
  {
   "cell_type": "code",
   "execution_count": 73,
   "metadata": {},
   "outputs": [
    {
     "data": {
      "text/plain": [
       "{'loss': [2.504704475402832,\n",
       "  1.7049403190612793,\n",
       "  0.752704381942749,\n",
       "  0.3212074637413025,\n",
       "  0.14852362871170044,\n",
       "  0.08594032377004623,\n",
       "  0.05256177857518196,\n",
       "  0.03550804406404495,\n",
       "  0.02474077418446541,\n",
       "  0.01879918947815895,\n",
       "  0.014194306917488575,\n",
       "  0.012351252138614655,\n",
       "  0.009621916338801384,\n",
       "  0.013401437550783157,\n",
       "  0.007741998415440321,\n",
       "  0.005195681005716324,\n",
       "  0.004404726438224316,\n",
       "  0.00407278910279274,\n",
       "  0.003329457249492407,\n",
       "  0.0029412060976028442],\n",
       " 'accuracy': [0.23224851489067078,\n",
       "  0.4955621361732483,\n",
       "  0.8594674468040466,\n",
       "  0.9807692170143127,\n",
       "  0.9881656765937805,\n",
       "  0.9926035404205322,\n",
       "  0.9985207319259644,\n",
       "  1.0,\n",
       "  1.0,\n",
       "  1.0,\n",
       "  1.0,\n",
       "  1.0,\n",
       "  1.0,\n",
       "  1.0,\n",
       "  1.0,\n",
       "  1.0,\n",
       "  1.0,\n",
       "  1.0,\n",
       "  1.0,\n",
       "  1.0],\n",
       " 'val_loss': [2.242680788040161,\n",
       "  1.1672664880752563,\n",
       "  0.48826584219932556,\n",
       "  0.21506190299987793,\n",
       "  0.1188390851020813,\n",
       "  0.06967820972204208,\n",
       "  0.04718637466430664,\n",
       "  0.03187333792448044,\n",
       "  0.025774233043193817,\n",
       "  0.019163768738508224,\n",
       "  0.015328842215240002,\n",
       "  0.012668288312852383,\n",
       "  0.010309246368706226,\n",
       "  0.009306879714131355,\n",
       "  0.007425620686262846,\n",
       "  0.005894269794225693,\n",
       "  0.005006182007491589,\n",
       "  0.004685130901634693,\n",
       "  0.004100923426449299,\n",
       "  0.003722540335729718],\n",
       " 'val_accuracy': [0.2781065106391907,\n",
       "  0.6863905191421509,\n",
       "  0.9349112510681152,\n",
       "  0.9822485446929932,\n",
       "  0.9881656765937805,\n",
       "  0.9940828680992126,\n",
       "  1.0,\n",
       "  1.0,\n",
       "  1.0,\n",
       "  1.0,\n",
       "  1.0,\n",
       "  1.0,\n",
       "  1.0,\n",
       "  1.0,\n",
       "  1.0,\n",
       "  1.0,\n",
       "  1.0,\n",
       "  1.0,\n",
       "  1.0,\n",
       "  1.0]}"
      ]
     },
     "execution_count": 73,
     "metadata": {},
     "output_type": "execute_result"
    }
   ],
   "source": [
    "history.history"
   ]
  }
 ],
 "metadata": {
  "kernelspec": {
   "display_name": "Python 3",
   "language": "python",
   "name": "python3"
  },
  "language_info": {
   "codemirror_mode": {
    "name": "ipython",
    "version": 3
   },
   "file_extension": ".py",
   "mimetype": "text/x-python",
   "name": "python",
   "nbconvert_exporter": "python",
   "pygments_lexer": "ipython3",
   "version": "3.7.6"
  }
 },
 "nbformat": 4,
 "nbformat_minor": 4
}
